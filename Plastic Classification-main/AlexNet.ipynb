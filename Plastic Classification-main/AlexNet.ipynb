version https://git-lfs.github.com/spec/v1
oid sha256:a15016b58c64141d0e142a98db133e70978c5414a890d2b93ae939bc3fac1d54
size 1765598
