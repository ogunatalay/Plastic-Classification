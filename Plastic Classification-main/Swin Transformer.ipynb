version https://git-lfs.github.com/spec/v1
oid sha256:560bdb69faa88e416e2a0fa8cf64ac9c15478b5ca4696df456ddeb745772d35e
size 2199067
