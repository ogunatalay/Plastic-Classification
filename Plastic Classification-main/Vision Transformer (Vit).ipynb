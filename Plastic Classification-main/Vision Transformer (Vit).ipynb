version https://git-lfs.github.com/spec/v1
oid sha256:31eb14e59034147b7a3b6c034cf2fc05002bfcd646621226bf900c05eff4a3ae
size 2177362
