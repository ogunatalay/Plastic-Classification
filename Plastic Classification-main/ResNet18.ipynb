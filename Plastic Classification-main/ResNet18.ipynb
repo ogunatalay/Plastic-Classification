version https://git-lfs.github.com/spec/v1
oid sha256:e375eec36131bdd86367625ce34f5a7aff403ee87b8e6b2f98afa7c962a0ca70
size 1952611
